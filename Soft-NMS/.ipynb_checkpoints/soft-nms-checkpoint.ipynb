{
 "cells": [
  {
   "cell_type": "markdown",
   "id": "c4070a72",
   "metadata": {},
   "source": [
    "# Soft-NMS\n",
    "## Remember to: pip install ensemble_boxes\n",
    "\n",
    "The soft-nms function is taken from the https://github.com/ZFTurbo/Weighted-Boxes-Fusion repository"
   ]
  },
  {
   "cell_type": "code",
   "execution_count": 9,
   "id": "ff88b55b",
   "metadata": {},
   "outputs": [
    {
     "name": "stdout",
     "output_type": "stream",
     "text": [
      "[[0.   0.51 0.81 0.91]\n",
      " [0.08 0.49 0.21 0.89]\n",
      " [0.1  0.31 0.71 0.61]\n",
      " [0.03 0.24 0.12 0.35]\n",
      " [0.02 0.53 0.11 0.94]\n",
      " [0.38 0.66 0.79 0.95]\n",
      " [0.04 0.56 0.84 0.92]] [0.6        0.1        0.53333333 0.46666667 0.26666667 0.23333333\n",
      " 0.16666667] [0 0 1 1 1 1 1]\n",
      "[[0.   0.51 0.81 0.91]\n",
      " [0.08 0.49 0.21 0.89]\n",
      " [0.01 0.32 0.83 0.93]\n",
      " [0.1  0.31 0.71 0.61]\n",
      " [0.03 0.24 0.12 0.35]\n",
      " [0.02 0.53 0.11 0.94]\n",
      " [0.38 0.66 0.79 0.95]\n",
      " [0.04 0.56 0.84 0.92]\n",
      " [0.12 0.33 0.72 0.64]] [0.4        0.03333333 0.08888889 0.35555556 0.31111111 0.17777778\n",
      " 0.07777778 0.05555556 0.08888889] [0 0 0 1 1 1 1 1 1]\n",
      "[[0.00123605 0.48651513 0.8124721  0.91247207]\n",
      " [0.10184006 0.31184006 0.71092004 0.61276007]\n",
      " [0.03       0.23999998 0.11999999 0.35      ]\n",
      " [0.02       0.53000003 0.11       0.94      ]\n",
      " [0.38       0.65999997 0.78999996 0.95      ]\n",
      " [0.04       0.56       0.84       0.91999996]\n",
      " [0.08       0.49       0.21       0.8899999 ]] [0.4        0.35555556 0.31111112 0.17777778 0.03888889 0.02777778\n",
      " 0.01666667] [0. 1. 1. 1. 1. 1. 0.]\n",
      "[[0.00181818 0.47545454 0.81363636 0.91363633]\n",
      " [0.10222223 0.31222221 0.71111113 0.61333328]\n",
      " [0.03       0.24       0.12       0.35      ]\n",
      " [0.02       0.53       0.11       0.94      ]\n",
      " [0.38       0.66       0.79       0.95      ]\n",
      " [0.04       0.56       0.84       0.92      ]\n",
      " [0.08       0.49       0.21       0.89      ]] [0.32592593 0.26666667 0.20740741 0.11851852 0.02592593 0.01851852\n",
      " 0.01111111] [0. 1. 1. 1. 1. 1. 0.]\n"
     ]
    }
   ],
   "source": [
    "# FROM https://github.com/ZFTurbo/Weighted-Boxes-Fusion\n",
    "# This is the test of the box fusion\n",
    "from ensemble_boxes import *\n",
    "\n",
    "boxes_list = [[\n",
    "    [0.00, 0.51, 0.81, 0.91],\n",
    "    [0.10, 0.31, 0.71, 0.61],\n",
    "    [0.01, 0.32, 0.83, 0.93],\n",
    "    [0.02, 0.53, 0.11, 0.94],\n",
    "    [0.03, 0.24, 0.12, 0.35],\n",
    "],[\n",
    "    [0.04, 0.56, 0.84, 0.92],\n",
    "    [0.12, 0.33, 0.72, 0.64],\n",
    "    [0.38, 0.66, 0.79, 0.95],\n",
    "    [0.08, 0.49, 0.21, 0.89],\n",
    "]]\n",
    "scores_list = [[0.9, 0.8, 0.2, 0.4, 0.7], [0.5, 0.8, 0.7, 0.3]]\n",
    "labels_list = [[0, 1, 0, 1, 1], [1, 1, 1, 0]]\n",
    "weights = [2, 1]\n",
    "\n",
    "iou_thr = 0.5\n",
    "skip_box_thr = 0.0001\n",
    "sigma = 0.1\n",
    "\n",
    "boxes, scores, labels = nms(boxes_list, scores_list, labels_list, weights=weights, iou_thr=iou_thr)\n",
    "print(boxes, scores, labels)\n",
    "boxes, scores, labels = soft_nms(boxes_list, scores_list, labels_list, weights=weights, iou_thr=iou_thr, sigma=sigma, thresh=skip_box_thr)\n",
    "print(boxes, scores, labels)\n",
    "boxes, scores, labels = non_maximum_weighted(boxes_list, scores_list, labels_list, weights=weights, iou_thr=iou_thr, skip_box_thr=skip_box_thr)\n",
    "print(boxes, scores, labels)\n",
    "boxes, scores, labels = weighted_boxes_fusion(boxes_list, scores_list, labels_list, weights=weights, iou_thr=iou_thr, skip_box_thr=skip_box_thr)\n",
    "print(boxes, scores, labels)"
   ]
  },
  {
   "cell_type": "code",
   "execution_count": 10,
   "id": "d515c85b",
   "metadata": {},
   "outputs": [
    {
     "name": "stdout",
     "output_type": "stream",
     "text": [
      "[[0.   0.51 0.81 0.91]\n",
      " [0.08 0.49 0.21 0.89]\n",
      " [0.01 0.32 0.83 0.93]\n",
      " [0.1  0.31 0.71 0.61]\n",
      " [0.03 0.24 0.12 0.35]\n",
      " [0.02 0.53 0.11 0.94]\n",
      " [0.38 0.66 0.79 0.95]\n",
      " [0.04 0.56 0.84 0.92]\n",
      " [0.12 0.33 0.72 0.64]] [0.4        0.03333333 0.08888889 0.35555556 0.31111111 0.17777778\n",
      " 0.07777778 0.05555556 0.08888889] [0 0 0 1 1 1 1 1 1]\n"
     ]
    }
   ],
   "source": [
    "from ensemble_boxes import soft_nms\n",
    "# This is the implementation for our model\n",
    "\n",
    "iou_thr = 0.5\n",
    "skip_box_thr = 0.0001\n",
    "sigma = 0.1\n",
    "# Merge boxes for single model predictions\n",
    "boxes, scores, labels = soft_nms(boxes_list, scores_list, labels_list, weights=None, iou_thr=iou_thr, sigma=sigma, thresh=skip_box_thr)\n",
    "print(boxes, scores, labels)"
   ]
  }
 ],
 "metadata": {
  "kernelspec": {
   "display_name": "Python 3",
   "language": "python",
   "name": "python3"
  },
  "language_info": {
   "codemirror_mode": {
    "name": "ipython",
    "version": 3
   },
   "file_extension": ".py",
   "mimetype": "text/x-python",
   "name": "python",
   "nbconvert_exporter": "python",
   "pygments_lexer": "ipython3",
   "version": "3.8.8"
  }
 },
 "nbformat": 4,
 "nbformat_minor": 5
}
